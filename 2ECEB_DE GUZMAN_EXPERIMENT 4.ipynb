{
 "cells": [
  {
   "cell_type": "code",
   "execution_count": null,
   "id": "d300d878-2bd2-42ae-bb6a-9c51095275fb",
   "metadata": {},
   "outputs": [],
   "source": []
  }
 ],
 "metadata": {
  "kernelspec": {
   "display_name": "",
   "name": ""
  },
  "language_info": {
   "name": ""
  }
 },
 "nbformat": 4,
 "nbformat_minor": 5
}
